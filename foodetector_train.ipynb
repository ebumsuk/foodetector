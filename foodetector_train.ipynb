{
 "cells": [
  {
   "cell_type": "code",
   "execution_count": 1,
   "metadata": {},
   "outputs": [],
   "source": [
    "# TORCHVISION OBJECT DETECTION FINETUNING TUTORIAL을 참조하여 구현하였습니다.\n",
    "# https://pytorch.org/tutorials/intermediate/torchvision_tutorial.html\n",
    "import os\n",
    "import time\n",
    "import pickle\n",
    "import numpy as np\n",
    "from PIL import Image, ImageDraw\n",
    "from xml.etree.ElementTree import parse\n",
    "\n",
    "import torch\n",
    "import torchvision\n",
    "from torchvision.models.detection.faster_rcnn import FastRCNNPredictor\n",
    "\n",
    "from engine import train_one_epoch, evaluate\n",
    "import transforms as T\n",
    "import utils"
   ]
  },
  {
   "cell_type": "code",
   "execution_count": 2,
   "metadata": {},
   "outputs": [],
   "source": [
    "# 검출 대상 객체 리스트\n",
    "class_dict = {\"background\":0, \"naengmyeon\":1, \"bibimbap\":2, \"samgyetang\":3, \"yukgaejang\":4, \"galbijjim\":5, \"ddukguk\":6, \"sundae\":7, \\\n",
    "              \"jokbal\":8, \"japchae\":9, \"bindaetteok\":10, \"udon\":11, \"tonkatsu\":12, \"soba\":13, \"gyudon\":14, \"ramen\":15, \"okonomiyaki\":16, \\\n",
    "              \"jajangmyeon\":17, \"jjambbong\":18, \"tangsuyuk\":19, \"beijingduck\":20, \"mapotofu\":21, \"shaolongbao\":22, \\\n",
    "              \"hamburger\":23, \"margeritapizza\":24, \"friedchicken\":25, \"curryrice\":26, \"fishandchips\":27, \"tomyamkung\":28, \\\n",
    "              \"nasigoreng\":29}\n",
    "\n",
    "# 데이터셋 클래스\n",
    "class FoodetectorDataset(torch.utils.data.Dataset):\n",
    "    def __init__(self, root, transforms=None):\n",
    "        self.root = root\n",
    "        self.transforms = transforms\n",
    "\n",
    "        self.imgs = list(sorted(os.listdir(os.path.join(root, \"images\"))))\n",
    "        self.annos = list(sorted(os.listdir(os.path.join(root, \"annotations\"))))\n",
    "\n",
    "    def __getitem__(self, idx):\n",
    "        # load images and annotations\n",
    "        img_path = os.path.join(self.root, \"images\", self.imgs[idx])\n",
    "        anno_path = os.path.join(self.root, \"annotations\", self.annos[idx])\n",
    "        img = Image.open(img_path).convert(\"RGB\")\n",
    "        \n",
    "        # annotation xml 파일에서 정보를 읽어와서 데이터셋으로 저장\n",
    "        tree = parse(anno_path)\n",
    "        \n",
    "        objects = tree.getroot().findall(\"object\")\n",
    "        labels = []\n",
    "        boxes = []\n",
    "        for obj in objects:\n",
    "            label = obj.find('name').text\n",
    "            labels.append(class_dict[label])\n",
    "            bndbox = obj.find('bndbox')\n",
    "            xmin, ymin = int(bndbox.find('xmin').text), int(bndbox.find('ymin').text) \n",
    "            xmax, ymax = int(bndbox.find('xmax').text), int(bndbox.find('ymax').text)\n",
    "            boxes.append([xmin, ymin, xmax, ymax])\n",
    "        labels = torch.as_tensor(labels, dtype=torch.int64)\n",
    "        boxes = torch.as_tensor(boxes, dtype=torch.float32)\n",
    "        \n",
    "        image_id = torch.tensor([idx])\n",
    "        area = (boxes[:, 3] - boxes[:, 1]) * (boxes[:, 2] - boxes[:, 0])\n",
    "        # suppose all instances are not crowd\n",
    "        iscrowd = torch.zeros((len(objects),), dtype=torch.int64)\n",
    "        \n",
    "        target = {}\n",
    "        target[\"boxes\"] = boxes\n",
    "        target[\"labels\"] = labels\n",
    "        target[\"image_id\"] = image_id\n",
    "        target[\"area\"] = area\n",
    "        target[\"iscrowd\"] = iscrowd\n",
    "\n",
    "        if self.transforms is not None:\n",
    "            img, target = self.transforms(img, target)\n",
    "\n",
    "        return img, target\n",
    "\n",
    "    def __len__(self):\n",
    "        return len(self.imgs)"
   ]
  },
  {
   "cell_type": "code",
   "execution_count": 3,
   "metadata": {},
   "outputs": [],
   "source": [
    "def get_object_detection_model(num_classes):\n",
    "    # COCO 데이터셋으로 pre-trained된 object_detection model을 가져옴 \n",
    "    model = torchvision.models.detection.fasterrcnn_resnet50_fpn(pretrained=True)\n",
    "\n",
    "    # Feature vector의 size 확인\n",
    "    in_features = model.roi_heads.box_predictor.cls_score.in_features\n",
    "    \n",
    "    # 학습 대상인 classifier와 bounding box regressor를 새로 정의\n",
    "    model.roi_heads.box_predictor = FastRCNNPredictor(in_features, num_classes)\n",
    "\n",
    "    return model"
   ]
  },
  {
   "cell_type": "code",
   "execution_count": 5,
   "metadata": {},
   "outputs": [],
   "source": [
    "def get_transform(train):\n",
    "    transforms = []\n",
    "    # converts the image, a PIL image, into a PyTorch Tensor\n",
    "    transforms.append(T.ToTensor())\n",
    "    if train:\n",
    "        # during training, randomly flip the training images\n",
    "        # and ground-truth for data augmentation\n",
    "        transforms.append(T.RandomHorizontalFlip(0.5))\n",
    "    return T.Compose(transforms)"
   ]
  },
  {
   "cell_type": "code",
   "execution_count": 4,
   "metadata": {},
   "outputs": [],
   "source": [
    "# 29개의 객체를 검출 대상으로 함 (1개는 background)\n",
    "num_classes = 29 + 1\n",
    "\n",
    "# 모델 인스턴스 생성\n",
    "model = get_object_detection_model(num_classes)\n",
    "# print(model)"
   ]
  },
  {
   "cell_type": "code",
   "execution_count": 6,
   "metadata": {},
   "outputs": [],
   "source": [
    "# use our dataset and defined transformations\n",
    "dataset = FoodetectorDataset('data', get_transform(train=True))\n",
    "dataset_test = FoodetectorDataset('data', get_transform(train=False))\n",
    "\n",
    "# split the dataset in train and test set\n",
    "torch.manual_seed(2)\n",
    "indices = torch.randperm(len(dataset)).tolist()\n",
    "dataset = torch.utils.data.Subset(dataset, indices[:-300])\n",
    "dataset_test = torch.utils.data.Subset(dataset_test, indices[-300:])\n",
    "\n",
    "# define training and validation data loaders\n",
    "data_loader = torch.utils.data.DataLoader(\n",
    "    dataset, batch_size=2, shuffle=True, num_workers=4,\n",
    "    collate_fn=utils.collate_fn)\n",
    "\n",
    "data_loader_test = torch.utils.data.DataLoader(\n",
    "    dataset_test, batch_size=1, shuffle=False, num_workers=4,\n",
    "    collate_fn=utils.collate_fn)\n",
    "\n",
    "# 별도로 테스트할 수 있도록 테스트 데이터 저장\n",
    "with open('test_data.pkl', 'wb') as output:\n",
    "    pickle.dump(dataset_test, output, pickle.HIGHEST_PROTOCOL)"
   ]
  },
  {
   "cell_type": "code",
   "execution_count": 7,
   "metadata": {},
   "outputs": [
    {
     "name": "stdout",
     "output_type": "stream",
     "text": [
      "device : cuda\n"
     ]
    }
   ],
   "source": [
    "# 사용 가능한 GPU 설정\n",
    "# os.environ[\"CUDA_VISIBLE_DEVICES\"] = '1, 2, 6, 7'\n",
    "device = torch.device('cuda') if torch.cuda.is_available() else torch.device('cpu')\n",
    "print(\"device :\", device)\n",
    "\n",
    "# move model to the right device\n",
    "model.to(device)\n",
    "\n",
    "# construct an optimizer\n",
    "params = [p for p in model.parameters() if p.requires_grad]\n",
    "optimizer = torch.optim.SGD(params, lr=0.002, momentum=0.9, weight_decay=0.0005)\n",
    "\n",
    "# and a learning rate scheduler which decreases the learning rate by 2x every 3 epochs\n",
    "lr_scheduler = torch.optim.lr_scheduler.StepLR(optimizer, step_size=3, gamma=0.5)"
   ]
  },
  {
   "cell_type": "code",
   "execution_count": null,
   "metadata": {},
   "outputs": [],
   "source": [
    "start = time.time()\n",
    "\n",
    "# let's train it for 10 epochs\n",
    "num_epochs = 10\n",
    "\n",
    "for epoch in range(num_epochs):\n",
    "    # train for one epoch, printing every 100 iterations\n",
    "    train_one_epoch(model, optimizer, data_loader, device, epoch, print_freq=100)\n",
    "    # update the learning rate\n",
    "    lr_scheduler.step()\n",
    "    # evaluate on the test dataset\n",
    "    evaluate(model, data_loader_test, device=device)\n",
    "    \n",
    "    if epoch % 5 == 4:\n",
    "        #model SAVE\n",
    "        modelname = 'data/models/take5_epoch' + str(epoch+21) + '.model'\n",
    "        torch.save(model.state_dict(), modelname)\n",
    "    \n",
    "print (time.time() - start)"
   ]
  },
  {
   "cell_type": "code",
   "execution_count": 10,
   "metadata": {},
   "outputs": [],
   "source": [
    "torch.cuda.empty_cache()\n",
    "# 필요시 모델 save\n",
    "# torch.save(model.state_dict(), \"data/models/take5_epoch15.model\")"
   ]
  },
  {
   "cell_type": "code",
   "execution_count": null,
   "metadata": {},
   "outputs": [],
   "source": []
  }
 ],
 "metadata": {
  "kernelspec": {
   "display_name": "Python 3",
   "language": "python",
   "name": "python3"
  },
  "language_info": {
   "codemirror_mode": {
    "name": "ipython",
    "version": 3
   },
   "file_extension": ".py",
   "mimetype": "text/x-python",
   "name": "python",
   "nbconvert_exporter": "python",
   "pygments_lexer": "ipython3",
   "version": "3.7.3"
  }
 },
 "nbformat": 4,
 "nbformat_minor": 4
}
